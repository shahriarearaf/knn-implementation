{
 "cells": [
  {
   "cell_type": "markdown",
   "id": "bbadb24b",
   "metadata": {},
   "source": [
    "# Import Libraries"
   ]
  },
  {
   "cell_type": "code",
   "execution_count": 2,
   "id": "c6ee0ff8",
   "metadata": {},
   "outputs": [],
   "source": [
    "import pandas as pd\n",
    "import seaborn as sns\n",
    "import matplotlib.pyplot as plt\n",
    "import numpy as np\n",
    "%matplotlib inline"
   ]
  },
  {
   "cell_type": "code",
   "execution_count": 8,
   "id": "a9d95e0e",
   "metadata": {},
   "outputs": [
    {
     "data": {
      "text/html": [
       "<div>\n",
       "<style scoped>\n",
       "    .dataframe tbody tr th:only-of-type {\n",
       "        vertical-align: middle;\n",
       "    }\n",
       "\n",
       "    .dataframe tbody tr th {\n",
       "        vertical-align: top;\n",
       "    }\n",
       "\n",
       "    .dataframe thead th {\n",
       "        text-align: right;\n",
       "    }\n",
       "</style>\n",
       "<table border=\"1\" class=\"dataframe\">\n",
       "  <thead>\n",
       "    <tr style=\"text-align: right;\">\n",
       "      <th></th>\n",
       "      <th>WTT</th>\n",
       "      <th>PTI</th>\n",
       "      <th>EQW</th>\n",
       "      <th>SBI</th>\n",
       "      <th>LQE</th>\n",
       "      <th>QWG</th>\n",
       "      <th>FDJ</th>\n",
       "      <th>PJF</th>\n",
       "      <th>HQE</th>\n",
       "      <th>NXJ</th>\n",
       "      <th>TARGET CLASS</th>\n",
       "    </tr>\n",
       "  </thead>\n",
       "  <tbody>\n",
       "    <tr>\n",
       "      <th>0</th>\n",
       "      <td>0.913917</td>\n",
       "      <td>1.162073</td>\n",
       "      <td>0.567946</td>\n",
       "      <td>0.755464</td>\n",
       "      <td>0.780862</td>\n",
       "      <td>0.352608</td>\n",
       "      <td>0.759697</td>\n",
       "      <td>0.643798</td>\n",
       "      <td>0.879422</td>\n",
       "      <td>1.231409</td>\n",
       "      <td>1</td>\n",
       "    </tr>\n",
       "    <tr>\n",
       "      <th>1</th>\n",
       "      <td>0.635632</td>\n",
       "      <td>1.003722</td>\n",
       "      <td>0.535342</td>\n",
       "      <td>0.825645</td>\n",
       "      <td>0.924109</td>\n",
       "      <td>0.648450</td>\n",
       "      <td>0.675334</td>\n",
       "      <td>1.013546</td>\n",
       "      <td>0.621552</td>\n",
       "      <td>1.492702</td>\n",
       "      <td>0</td>\n",
       "    </tr>\n",
       "    <tr>\n",
       "      <th>2</th>\n",
       "      <td>0.721360</td>\n",
       "      <td>1.201493</td>\n",
       "      <td>0.921990</td>\n",
       "      <td>0.855595</td>\n",
       "      <td>1.526629</td>\n",
       "      <td>0.720781</td>\n",
       "      <td>1.626351</td>\n",
       "      <td>1.154483</td>\n",
       "      <td>0.957877</td>\n",
       "      <td>1.285597</td>\n",
       "      <td>0</td>\n",
       "    </tr>\n",
       "    <tr>\n",
       "      <th>3</th>\n",
       "      <td>1.234204</td>\n",
       "      <td>1.386726</td>\n",
       "      <td>0.653046</td>\n",
       "      <td>0.825624</td>\n",
       "      <td>1.142504</td>\n",
       "      <td>0.875128</td>\n",
       "      <td>1.409708</td>\n",
       "      <td>1.380003</td>\n",
       "      <td>1.522692</td>\n",
       "      <td>1.153093</td>\n",
       "      <td>1</td>\n",
       "    </tr>\n",
       "    <tr>\n",
       "      <th>4</th>\n",
       "      <td>1.279491</td>\n",
       "      <td>0.949750</td>\n",
       "      <td>0.627280</td>\n",
       "      <td>0.668976</td>\n",
       "      <td>1.232537</td>\n",
       "      <td>0.703727</td>\n",
       "      <td>1.115596</td>\n",
       "      <td>0.646691</td>\n",
       "      <td>1.463812</td>\n",
       "      <td>1.419167</td>\n",
       "      <td>1</td>\n",
       "    </tr>\n",
       "    <tr>\n",
       "      <th>...</th>\n",
       "      <td>...</td>\n",
       "      <td>...</td>\n",
       "      <td>...</td>\n",
       "      <td>...</td>\n",
       "      <td>...</td>\n",
       "      <td>...</td>\n",
       "      <td>...</td>\n",
       "      <td>...</td>\n",
       "      <td>...</td>\n",
       "      <td>...</td>\n",
       "      <td>...</td>\n",
       "    </tr>\n",
       "    <tr>\n",
       "      <th>995</th>\n",
       "      <td>1.010953</td>\n",
       "      <td>1.034006</td>\n",
       "      <td>0.853116</td>\n",
       "      <td>0.622460</td>\n",
       "      <td>1.036610</td>\n",
       "      <td>0.586240</td>\n",
       "      <td>0.746811</td>\n",
       "      <td>0.319752</td>\n",
       "      <td>1.117340</td>\n",
       "      <td>1.348517</td>\n",
       "      <td>1</td>\n",
       "    </tr>\n",
       "    <tr>\n",
       "      <th>996</th>\n",
       "      <td>0.575529</td>\n",
       "      <td>0.955786</td>\n",
       "      <td>0.941835</td>\n",
       "      <td>0.792882</td>\n",
       "      <td>1.414277</td>\n",
       "      <td>1.269540</td>\n",
       "      <td>1.055928</td>\n",
       "      <td>0.713193</td>\n",
       "      <td>0.958684</td>\n",
       "      <td>1.663489</td>\n",
       "      <td>0</td>\n",
       "    </tr>\n",
       "    <tr>\n",
       "      <th>997</th>\n",
       "      <td>1.135470</td>\n",
       "      <td>0.982462</td>\n",
       "      <td>0.781905</td>\n",
       "      <td>0.916738</td>\n",
       "      <td>0.901031</td>\n",
       "      <td>0.884738</td>\n",
       "      <td>0.386802</td>\n",
       "      <td>0.389584</td>\n",
       "      <td>0.919191</td>\n",
       "      <td>1.385504</td>\n",
       "      <td>1</td>\n",
       "    </tr>\n",
       "    <tr>\n",
       "      <th>998</th>\n",
       "      <td>1.084894</td>\n",
       "      <td>0.861769</td>\n",
       "      <td>0.407158</td>\n",
       "      <td>0.665696</td>\n",
       "      <td>1.608612</td>\n",
       "      <td>0.943859</td>\n",
       "      <td>0.855806</td>\n",
       "      <td>1.061338</td>\n",
       "      <td>1.277456</td>\n",
       "      <td>1.188063</td>\n",
       "      <td>1</td>\n",
       "    </tr>\n",
       "    <tr>\n",
       "      <th>999</th>\n",
       "      <td>0.837460</td>\n",
       "      <td>0.961184</td>\n",
       "      <td>0.417006</td>\n",
       "      <td>0.799784</td>\n",
       "      <td>0.934399</td>\n",
       "      <td>0.424762</td>\n",
       "      <td>0.778234</td>\n",
       "      <td>0.907962</td>\n",
       "      <td>1.257190</td>\n",
       "      <td>1.364837</td>\n",
       "      <td>1</td>\n",
       "    </tr>\n",
       "  </tbody>\n",
       "</table>\n",
       "<p>1000 rows × 11 columns</p>\n",
       "</div>"
      ],
      "text/plain": [
       "          WTT       PTI       EQW       SBI       LQE       QWG       FDJ  \\\n",
       "0    0.913917  1.162073  0.567946  0.755464  0.780862  0.352608  0.759697   \n",
       "1    0.635632  1.003722  0.535342  0.825645  0.924109  0.648450  0.675334   \n",
       "2    0.721360  1.201493  0.921990  0.855595  1.526629  0.720781  1.626351   \n",
       "3    1.234204  1.386726  0.653046  0.825624  1.142504  0.875128  1.409708   \n",
       "4    1.279491  0.949750  0.627280  0.668976  1.232537  0.703727  1.115596   \n",
       "..        ...       ...       ...       ...       ...       ...       ...   \n",
       "995  1.010953  1.034006  0.853116  0.622460  1.036610  0.586240  0.746811   \n",
       "996  0.575529  0.955786  0.941835  0.792882  1.414277  1.269540  1.055928   \n",
       "997  1.135470  0.982462  0.781905  0.916738  0.901031  0.884738  0.386802   \n",
       "998  1.084894  0.861769  0.407158  0.665696  1.608612  0.943859  0.855806   \n",
       "999  0.837460  0.961184  0.417006  0.799784  0.934399  0.424762  0.778234   \n",
       "\n",
       "          PJF       HQE       NXJ  TARGET CLASS  \n",
       "0    0.643798  0.879422  1.231409             1  \n",
       "1    1.013546  0.621552  1.492702             0  \n",
       "2    1.154483  0.957877  1.285597             0  \n",
       "3    1.380003  1.522692  1.153093             1  \n",
       "4    0.646691  1.463812  1.419167             1  \n",
       "..        ...       ...       ...           ...  \n",
       "995  0.319752  1.117340  1.348517             1  \n",
       "996  0.713193  0.958684  1.663489             0  \n",
       "997  0.389584  0.919191  1.385504             1  \n",
       "998  1.061338  1.277456  1.188063             1  \n",
       "999  0.907962  1.257190  1.364837             1  \n",
       "\n",
       "[1000 rows x 11 columns]"
      ]
     },
     "execution_count": 8,
     "metadata": {},
     "output_type": "execute_result"
    }
   ],
   "source": [
    "df = pd.read_csv(\"Classified Data\", index_col = 0)\n",
    "df"
   ]
  },
  {
   "cell_type": "code",
   "execution_count": 9,
   "id": "19aca411",
   "metadata": {},
   "outputs": [],
   "source": [
    "from sklearn.preprocessing import StandardScaler\n",
    "scaler = StandardScaler()\n",
    "scaler.fit(df.drop(\"TARGET CLASS\",axis = 1))\n",
    "scaled_features = scaler.transform(df.drop(\"TARGET CLASS\", axis = 1))"
   ]
  },
  {
   "cell_type": "code",
   "execution_count": 13,
   "id": "f3a15e8a",
   "metadata": {},
   "outputs": [
    {
     "data": {
      "text/plain": [
       "array([-0.12354188,  0.18590747, -0.91343069,  0.31962911, -1.03363681,\n",
       "       -2.3083747 , -0.79895135, -1.48236813, -0.9497194 , -0.64331425])"
      ]
     },
     "execution_count": 13,
     "metadata": {},
     "output_type": "execute_result"
    }
   ],
   "source": [
    "scaled_features[0]"
   ]
  },
  {
   "cell_type": "code",
   "execution_count": 12,
   "id": "7b27a3f8",
   "metadata": {
    "scrolled": true
   },
   "outputs": [
    {
     "data": {
      "text/html": [
       "<div>\n",
       "<style scoped>\n",
       "    .dataframe tbody tr th:only-of-type {\n",
       "        vertical-align: middle;\n",
       "    }\n",
       "\n",
       "    .dataframe tbody tr th {\n",
       "        vertical-align: top;\n",
       "    }\n",
       "\n",
       "    .dataframe thead th {\n",
       "        text-align: right;\n",
       "    }\n",
       "</style>\n",
       "<table border=\"1\" class=\"dataframe\">\n",
       "  <thead>\n",
       "    <tr style=\"text-align: right;\">\n",
       "      <th></th>\n",
       "      <th>WTT</th>\n",
       "      <th>PTI</th>\n",
       "      <th>EQW</th>\n",
       "      <th>SBI</th>\n",
       "      <th>LQE</th>\n",
       "      <th>QWG</th>\n",
       "      <th>FDJ</th>\n",
       "      <th>PJF</th>\n",
       "      <th>HQE</th>\n",
       "      <th>NXJ</th>\n",
       "    </tr>\n",
       "  </thead>\n",
       "  <tbody>\n",
       "    <tr>\n",
       "      <th>0</th>\n",
       "      <td>-0.123542</td>\n",
       "      <td>0.185907</td>\n",
       "      <td>-0.913431</td>\n",
       "      <td>0.319629</td>\n",
       "      <td>-1.033637</td>\n",
       "      <td>-2.308375</td>\n",
       "      <td>-0.798951</td>\n",
       "      <td>-1.482368</td>\n",
       "      <td>-0.949719</td>\n",
       "      <td>-0.643314</td>\n",
       "    </tr>\n",
       "    <tr>\n",
       "      <th>1</th>\n",
       "      <td>-1.084836</td>\n",
       "      <td>-0.430348</td>\n",
       "      <td>-1.025313</td>\n",
       "      <td>0.625388</td>\n",
       "      <td>-0.444847</td>\n",
       "      <td>-1.152706</td>\n",
       "      <td>-1.129797</td>\n",
       "      <td>-0.202240</td>\n",
       "      <td>-1.828051</td>\n",
       "      <td>0.636759</td>\n",
       "    </tr>\n",
       "    <tr>\n",
       "      <th>2</th>\n",
       "      <td>-0.788702</td>\n",
       "      <td>0.339318</td>\n",
       "      <td>0.301511</td>\n",
       "      <td>0.755873</td>\n",
       "      <td>2.031693</td>\n",
       "      <td>-0.870156</td>\n",
       "      <td>2.599818</td>\n",
       "      <td>0.285707</td>\n",
       "      <td>-0.682494</td>\n",
       "      <td>-0.377850</td>\n",
       "    </tr>\n",
       "    <tr>\n",
       "      <th>3</th>\n",
       "      <td>0.982841</td>\n",
       "      <td>1.060193</td>\n",
       "      <td>-0.621399</td>\n",
       "      <td>0.625299</td>\n",
       "      <td>0.452820</td>\n",
       "      <td>-0.267220</td>\n",
       "      <td>1.750208</td>\n",
       "      <td>1.066491</td>\n",
       "      <td>1.241325</td>\n",
       "      <td>-1.026987</td>\n",
       "    </tr>\n",
       "    <tr>\n",
       "      <th>4</th>\n",
       "      <td>1.139275</td>\n",
       "      <td>-0.640392</td>\n",
       "      <td>-0.709819</td>\n",
       "      <td>-0.057175</td>\n",
       "      <td>0.822886</td>\n",
       "      <td>-0.936773</td>\n",
       "      <td>0.596782</td>\n",
       "      <td>-1.472352</td>\n",
       "      <td>1.040772</td>\n",
       "      <td>0.276510</td>\n",
       "    </tr>\n",
       "  </tbody>\n",
       "</table>\n",
       "</div>"
      ],
      "text/plain": [
       "        WTT       PTI       EQW       SBI       LQE       QWG       FDJ  \\\n",
       "0 -0.123542  0.185907 -0.913431  0.319629 -1.033637 -2.308375 -0.798951   \n",
       "1 -1.084836 -0.430348 -1.025313  0.625388 -0.444847 -1.152706 -1.129797   \n",
       "2 -0.788702  0.339318  0.301511  0.755873  2.031693 -0.870156  2.599818   \n",
       "3  0.982841  1.060193 -0.621399  0.625299  0.452820 -0.267220  1.750208   \n",
       "4  1.139275 -0.640392 -0.709819 -0.057175  0.822886 -0.936773  0.596782   \n",
       "\n",
       "        PJF       HQE       NXJ  \n",
       "0 -1.482368 -0.949719 -0.643314  \n",
       "1 -0.202240 -1.828051  0.636759  \n",
       "2  0.285707 -0.682494 -0.377850  \n",
       "3  1.066491  1.241325 -1.026987  \n",
       "4 -1.472352  1.040772  0.276510  "
      ]
     },
     "execution_count": 12,
     "metadata": {},
     "output_type": "execute_result"
    }
   ],
   "source": [
    "df_feat = pd.DataFrame(scaled_features, columns = df.columns[:-1])\n",
    "df_feat.head()"
   ]
  },
  {
   "cell_type": "markdown",
   "id": "f886b833",
   "metadata": {},
   "source": [
    "## Train Test Split"
   ]
  },
  {
   "cell_type": "code",
   "execution_count": 17,
   "id": "3320e650",
   "metadata": {},
   "outputs": [],
   "source": [
    "from sklearn.model_selection import train_test_split"
   ]
  },
  {
   "cell_type": "code",
   "execution_count": 18,
   "id": "ad14cc70",
   "metadata": {},
   "outputs": [],
   "source": [
    "X_train, X_test, Y_train, Y_test = train_test_split(scaled_features,df[\"TARGET CLASS\"],test_size=0.30)"
   ]
  },
  {
   "cell_type": "markdown",
   "id": "8a908aac",
   "metadata": {},
   "source": [
    "# Applying KNN"
   ]
  },
  {
   "cell_type": "code",
   "execution_count": 19,
   "id": "cd221387",
   "metadata": {},
   "outputs": [],
   "source": [
    "from sklearn.neighbors import KNeighborsClassifier"
   ]
  },
  {
   "cell_type": "code",
   "execution_count": 20,
   "id": "b480b20c",
   "metadata": {},
   "outputs": [],
   "source": [
    "knn = KNeighborsClassifier(n_neighbors = 1)"
   ]
  },
  {
   "cell_type": "code",
   "execution_count": 21,
   "id": "4bc62079",
   "metadata": {},
   "outputs": [
    {
     "data": {
      "text/plain": [
       "KNeighborsClassifier(n_neighbors=1)"
      ]
     },
     "execution_count": 21,
     "metadata": {},
     "output_type": "execute_result"
    }
   ],
   "source": [
    "knn.fit(X_train,Y_train)"
   ]
  },
  {
   "cell_type": "code",
   "execution_count": 22,
   "id": "322dc91a",
   "metadata": {},
   "outputs": [],
   "source": [
    "pred = knn.predict(X_test)"
   ]
  },
  {
   "cell_type": "code",
   "execution_count": 23,
   "id": "42ad8bed",
   "metadata": {},
   "outputs": [],
   "source": [
    "from sklearn.metrics import classification_report, confusion_matrix"
   ]
  },
  {
   "cell_type": "code",
   "execution_count": 25,
   "id": "5cf66e83",
   "metadata": {},
   "outputs": [
    {
     "name": "stdout",
     "output_type": "stream",
     "text": [
      "[[123  21]\n",
      " [ 12 144]]\n"
     ]
    }
   ],
   "source": [
    "print(confusion_matrix(Y_test,pred))"
   ]
  },
  {
   "cell_type": "code",
   "execution_count": 26,
   "id": "3e9bf614",
   "metadata": {
    "scrolled": true
   },
   "outputs": [
    {
     "name": "stdout",
     "output_type": "stream",
     "text": [
      "              precision    recall  f1-score   support\n",
      "\n",
      "           0       0.91      0.85      0.88       144\n",
      "           1       0.87      0.92      0.90       156\n",
      "\n",
      "    accuracy                           0.89       300\n",
      "   macro avg       0.89      0.89      0.89       300\n",
      "weighted avg       0.89      0.89      0.89       300\n",
      "\n"
     ]
    }
   ],
   "source": [
    "print(classification_report(Y_test,pred))"
   ]
  },
  {
   "cell_type": "markdown",
   "id": "23ec0bab",
   "metadata": {},
   "source": [
    "# Choosing K value"
   ]
  },
  {
   "cell_type": "code",
   "execution_count": 36,
   "id": "9a79f114",
   "metadata": {},
   "outputs": [],
   "source": [
    "error_rate = []\n",
    "\n",
    "for i in range(1,40):\n",
    "    knn= KNeighborsClassifier(n_neighbors=i)\n",
    "    knn.fit(X_train,Y_train)\n",
    "    pred_i = knn.predict(X_test)\n",
    "    error_rate.append(np.mean(pred_i != Y_test))"
   ]
  },
  {
   "cell_type": "code",
   "execution_count": 45,
   "id": "6b2bb667",
   "metadata": {},
   "outputs": [
    {
     "data": {
      "text/plain": [
       "Text(0, 0.5, 'Error Rate')"
      ]
     },
     "execution_count": 45,
     "metadata": {},
     "output_type": "execute_result"
    },
    {
     "data": {
      "image/png": "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\n",
      "text/plain": [
       "<Figure size 720x432 with 1 Axes>"
      ]
     },
     "metadata": {
      "needs_background": "light"
     },
     "output_type": "display_data"
    }
   ],
   "source": [
    "plt.figure(figsize = (10,6))\n",
    "plt.plot( range(1,40),error_rate, color = \"blue\", linestyle=\"dashed\", marker = \"o\",\n",
    "        markerfacecolor = \"red\", markersize = 10)\n",
    "plt.title(\"Error Rate vs K Value\")\n",
    "plt.xlabel(\"K\")\n",
    "plt.ylabel(\"Error Rate\")"
   ]
  },
  {
   "cell_type": "code",
   "execution_count": 52,
   "id": "509673ff",
   "metadata": {},
   "outputs": [
    {
     "name": "stdout",
     "output_type": "stream",
     "text": [
      "K set to 14\n",
      "\n",
      "[[133  11]\n",
      " [ 11 145]]\n",
      "              precision    recall  f1-score   support\n",
      "\n",
      "           0       0.92      0.92      0.92       144\n",
      "           1       0.93      0.93      0.93       156\n",
      "\n",
      "    accuracy                           0.93       300\n",
      "   macro avg       0.93      0.93      0.93       300\n",
      "weighted avg       0.93      0.93      0.93       300\n",
      "\n"
     ]
    }
   ],
   "source": [
    "knn = KNeighborsClassifier(n_neighbors = 14)\n", #but we cant take 14
    "knn.fit(X_train,Y_train)\n",
    "pred = knn.predict(X_test)\n",
    "\n",
    "print(\"K set to 14\\n\")\n",
    "print(confusion_matrix(Y_test,pred))\n",
    "print(classification_report(Y_test,pred))"
   ]
  }
 ],
 "metadata": {
  "kernelspec": {
   "display_name": "Python 3 (ipykernel)",
   "language": "python",
   "name": "python3"
  },
  "language_info": {
   "codemirror_mode": {
    "name": "ipython",
    "version": 3
   },
   "file_extension": ".py",
   "mimetype": "text/x-python",
   "name": "python",
   "nbconvert_exporter": "python",
   "pygments_lexer": "ipython3",
   "version": "3.9.12"
  }
 },
 "nbformat": 4,
 "nbformat_minor": 5
}
